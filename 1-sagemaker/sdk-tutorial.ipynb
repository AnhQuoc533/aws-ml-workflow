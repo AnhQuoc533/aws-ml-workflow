{
 "cells": [
  {
   "cell_type": "markdown",
   "metadata": {},
   "source": [
    "<h1 align=\"center\">Introduction to Amazon SageMaker AI</h1>"
   ]
  },
  {
   "cell_type": "markdown",
   "metadata": {},
   "source": [
    "<details>\n",
    "  <summary><h2>Table of Contents</h2></summary>\n",
    "  <ol>\n",
    "    <li><a href=\"#overview\">Overview</a></li>\n",
    "    <li><a href=\"#amazon-s3\">Amazon S3</a>\n",
    "    <ul>\n",
    "        <li><a href=\"#introduction\">Introduction</a></li>\n",
    "        <li><a href=\"#creating-bucket\">Creating bucket</a></li>\n",
    "        <li><a href=\"#uploading-data\">Uploading data</a></li>\n",
    "    </ul>\n",
    "    </li>\n",
    "    <li><a href=\"#amazon-sagemaker-ai\">Amazon SageMaker AI</a>\n",
    "    <ul>\n",
    "        <li><a href=\"#processing-jobs\">Processing jobs</a></li>\n",
    "        <li><a href=\"#training-jobs\">Training jobs</a></li>\n",
    "        <li><a href=\"#endpoints\">Endpoints</a></li>\n",
    "        <li><a href=\"#batch-transform-jobs\">Batch transform jobs</a></li>\n",
    "    </ul>\n",
    "    </li>\n",
    "    <li><a href=\"#cloudwatch-logs\">CloudWatch Logs</a></li>\n",
    "    <li><a href=\"#epilogue\">Epilogue</a></li>\n",
    "  </ol>\n",
    "</details>"
   ]
  },
  {
   "cell_type": "markdown",
   "metadata": {},
   "source": [
    "## Overview <a name=\"overview\"></a>\n",
    "Amazon SageMaker AI is an umbrella of services that AWS provides for Machine Learning (ML). In a nutshell, it is a service that enables the developer to be much more efficient with their valuable time when developing and deploying ML models. This methodology is applicable across many learning algorithms and many production use cases.\n",
    "\n",
    "In this tutorial, you will harness some of the most commonly used microservices of SageMaker AI to contruct basic components of a machine learning workflow. By the end of this lesson, you will be able to:\n",
    "* Launch a processing job to preprocess your data.\n",
    "* Launch a training job and build your ML model.\n",
    "* Deploy an endpoint to serve as an API for your trained model.\n",
    "* Launch a batch transform job to try out your trained model.\n",
    "<p align=\"center\"><img src=\"img/sagemaker_microservices.png\" width=\"80%\"></p>"
   ]
  },
  {
   "cell_type": "markdown",
   "metadata": {},
   "source": [
    "## Amazon S3 <a name=\"amazon-s3\"></a>\n",
    "First of all, you need to create a bucket in Amazon S3 to store any future files and data.\n",
    "\n",
    "### Introduction\n",
    "Amazon Simple Storage Service (Amazon S3) is an object storage service that can store almost any object needed for machine learning. That includes datasets, model artifacts, logs, and more.\n",
    "\n",
    "An [S3 bucket](https://docs.aws.amazon.com/AmazonS3/latest/userguide/UsingBucket.html) is a container for objects (i.e., files) stored in S3. \n",
    "\n",
    "S3 supports the folder concept as a means of grouping objects. It does this by using a shared name *prefix*. In other words, the grouped objects have names that begin with a common string. This common string, or shared prefix, is the folder name. Object names are also referred to as key names.\n",
    "\n",
    "For example: `s3://example-bucket/1/2/3/example.txt`\n",
    " * Bucket: example-bucket \n",
    " * Prefix: 1/2/3\n",
    " * Key name: 1/2/3/example.txt"
   ]
  },
  {
   "cell_type": "markdown",
   "metadata": {},
   "source": [
    "First of all, we need to create a bucket in Amazon S3 to store any future files and data.\n",
    "\n",
    "Amazon Simple Storage Service (Amazon S3) is an object storage service that can store almost any object needed for machine learning. That includes datasets, model artifacts, logs, and more.\n",
    "\n",
    "[A bucket](https://docs.aws.amazon.com/AmazonS3/latest/userguide/UsingBucket.html) is a container for objects (i.e., files) stored in S3. It is a good practice to create your buckets in the same region as your notebook instances to avoid access conflicts. This is because objects can only be uploaded and retrieved within the region where the bucket was created."
   ]
  },
  {
   "cell_type": "markdown",
   "metadata": {},
   "source": []
  },
  {
   "cell_type": "markdown",
   "metadata": {},
   "source": [
    "S3 supports the folder concept as a means of grouping objects. It does this by using a shared name *prefix* for the grouped objects. Prefixes can be thought as a way to organize data in a similar way to directories. However, prefixes are not directories.\n",
    "\n",
    "In other words, the grouped objects have names that begin with a common string. This common string, or shared prefix, is the folder name. Object names are also referred to as key names.\n",
    "\n",
    "For example:  \n",
    "* If we have a folder named `photos` in a bucket and store an object named `myphoto.jpg` in it, then the object is stored with the key name `photos/myphoto.jpg`, where `photos/` is the prefix. \n",
    "* If we have another folder named `model` in `photos` folder and store a file `model.tar.gz` in it, the object's the key name is `photos/model/model.tar.gz`, and its prefix is `photos/model/`.\\\n",
    "\n",
    "<center><img src=\"img/dir.png\"></center>"
   ]
  }
 ],
 "metadata": {
  "language_info": {
   "name": "python"
  },
  "orig_nbformat": 4
 },
 "nbformat": 4,
 "nbformat_minor": 2
}
