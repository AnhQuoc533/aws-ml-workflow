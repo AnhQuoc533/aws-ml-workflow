{
 "cells": [
  {
   "cell_type": "markdown",
   "id": "9213d171",
   "metadata": {},
   "source": [
    "## Lambda Test Event"
   ]
  },
  {
   "cell_type": "code",
   "execution_count": 1,
   "id": "9efff689",
   "metadata": {},
   "outputs": [
    {
     "data": {
      "text/plain": [
       "{'s3-dataset-uri': 'udacity-ml-workflow/Lesson 3, Exercise 1/reviews_Patio_Lawn_and_Garden_5.json.zip'}"
      ]
     },
     "execution_count": 1,
     "metadata": {},
     "output_type": "execute_result"
    }
   ],
   "source": [
    "{\n",
    "  \"s3-dataset-uri\": \"udacity-ml-workflow/Lesson 3, Exercise 1/reviews_Patio_Lawn_and_Garden_5.json.zip\"\n",
    "}"
   ]
  },
  {
   "cell_type": "markdown",
   "id": "600085e2",
   "metadata": {},
   "source": [
    "## Lambda Handler"
   ]
  },
  {
   "cell_type": "code",
   "execution_count": 2,
   "id": "010950e0",
   "metadata": {},
   "outputs": [],
   "source": [
    "# This cell will write the function to your local machine. Note the name of the file and the name of the function. \n",
    "# Compare this to the 'Handler' parameter. \n",
    "%%writefile lambda_function.py\n",
    "\n",
    "import json\n",
    "from HelloBlazePreprocessLambda import preprocess\n",
    "\n",
    "def lambda_handler(event, context):\n",
    "    preprocess(event['s3-dataset-uri'])\n",
    "    return {\n",
    "        'statusCode': 200,\n",
    "        'body': json.dumps(\"PREPROCESS SUCCESSFULLY!\")\n",
    "    }"
   ]
  },
  {
   "cell_type": "markdown",
   "id": "c4637c40",
   "metadata": {},
   "source": [
    "# Create Lambda function"
   ]
  },
  {
   "cell_type": "code",
   "execution_count": 3,
   "id": "852bcad1",
   "metadata": {},
   "outputs": [],
   "source": [
    "import boto3\n",
    "from sagemaker import get_execution_role\n",
    "from zipfile import ZipFile\n",
    "\n",
    "# Your role will need full access to Lambda. The easiest way to add this is through the IAM console.\n",
    "role = get_execution_role()\n",
    "client = boto3.client('lambda')\n",
    "\n",
    "with ZipFile('code.zip', 'w') as f:\n",
    "    f.write('HelloBlazePreprocessLambda.py')\n",
    "    f.write('lambda_function.py')\n",
    "    \n",
    "# If submitting as a ZipFile, you need to insert raw data.    \n",
    "with open('code.zip', 'rb') as f:\n",
    "    b_code = f.read()\n",
    "    \n",
    "# You will need to submit an 'execution role' to Lambda. The easiest way to add this is through the IAM console. \n",
    "# You'll need the full ARN (not just the name).\n",
    "\n",
    "response = client.create_function(\n",
    "    FunctionName='SDKPreprocessLambda',\n",
    "    Runtime='python3.9',\n",
    "    Handler='lambda_function.lambda_handler',\n",
    "    Code={\n",
    "        'ZipFile': b_code,\n",
    "    },\n",
    "    Description='A lambda function made through SDK.',\n",
    "    Timeout=90,  # Timeout 1 min 30 sec\n",
    "    MemorySize=1024,\n",
    "    Publish=True,\n",
    "    PackageType='Zip',\n",
    "    Role='arn:aws:iam::988060366449:role/service-role/test-role-ewvcwz8d'\n",
    ")"
   ]
  }
 ],
 "metadata": {
  "kernelspec": {
   "display_name": "conda_python3",
   "language": "python",
   "name": "conda_python3"
  },
  "language_info": {
   "codemirror_mode": {
    "name": "ipython",
    "version": 3
   },
   "file_extension": ".py",
   "mimetype": "text/x-python",
   "name": "python",
   "nbconvert_exporter": "python",
   "pygments_lexer": "ipython3",
   "version": "3.10.12"
  }
 },
 "nbformat": 4,
 "nbformat_minor": 5
}
