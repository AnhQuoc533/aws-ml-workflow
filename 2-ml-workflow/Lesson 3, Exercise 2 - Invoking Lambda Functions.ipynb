{
 "cells": [
  {
   "cell_type": "markdown",
   "id": "98c45b44",
   "metadata": {},
   "source": [
    "# UDACITY : Designing Your First Workflow - Invoking Lambda Functions"
   ]
  },
  {
   "cell_type": "markdown",
   "id": "f1639b0d",
   "metadata": {},
   "source": [
    "In the last exercise, you created your own Lambda function. Without realizing it, you've already practiced invoking as well! Launching a test event is an example of synchronous invocation. In this exercise, you will continue working on the lambda function 'PreprocessLambda' from the previous exercise. However, you'll practice a different way to launch asynchronous invocation, and also practice the setup of an asynchronous invocation.\n",
    "These are only two examples. Lambda is one of the most flexible offerings in AWS and can be utilized in a variety of applications. The same Lambda function can be (and often is) both invoked synchronously and asynchronously."
   ]
  },
  {
   "cell_type": "markdown",
   "id": "7a766cf8",
   "metadata": {},
   "source": [
    "## Exercise: Synchronous invocation "
   ]
  },
  {
   "cell_type": "markdown",
   "id": "fd13ac5d",
   "metadata": {},
   "source": [
    "Synchronous invocations occur when a call is made to a Lambda function and a response is waited for. The example we're asking you to implement is a CLI invocation, but Lambda functions can also be placed behind Amazon's API Gateway for potential users to directly invoke a Lambda function. This, in turn, could be the interface that you expose to users to allow them to interact with other AWS resources. These types of invocations are great for \"get\" and \"set\" methods."
   ]
  },
  {
   "cell_type": "markdown",
   "id": "5737584f",
   "metadata": {},
   "source": [
    "Your task is to synchronously invoke the Lambda function you implemented in the last exercise using the CLI. The following documentation may be useful to you: https://docs.aws.amazon.com/lambda/latest/dg/invocation-sync.html \n",
    "\n",
    "You will need to attach the LambdaFullAccess policy to the SageMaker execution role used for your notebook. Once done, it will take a few minutes for the policy to register.  "
   ]
  },
  {
   "cell_type": "code",
   "execution_count": 1,
   "id": "335d9982",
   "metadata": {},
   "outputs": [
    {
     "name": "stdout",
     "output_type": "stream",
     "text": [
      "{\n",
      "    \"StatusCode\": 200,\n",
      "    \"ExecutedVersion\": \"$LATEST\"\n",
      "}\n"
     ]
    }
   ],
   "source": [
    "%%bash \n",
    "aws lambda invoke --function-name PreprocessLambda --payload '{\"s3-dataset-uri\": \"udacity-ml-workflow/Lesson 3, Exercise 1/reviews_Patio_Lawn_and_Garden_5.json.zip\"}' response.json"
   ]
  },
  {
   "cell_type": "markdown",
   "id": "dbfa89ba",
   "metadata": {},
   "source": [
    "Next task is to synchronously invoke the same Lambda function through SDK using boto3. The following documentation may be useful to you: https://boto3.amazonaws.com/v1/documentation/api/latest/reference/services/lambda/client/invoke.html"
   ]
  },
  {
   "cell_type": "code",
   "execution_count": 4,
   "id": "773f0a65",
   "metadata": {},
   "outputs": [
    {
     "data": {
      "text/plain": [
       "{'ResponseMetadata': {'RequestId': '545d435f-43b3-4d39-a610-ce2df87e241a',\n",
       "  'HTTPStatusCode': 200,\n",
       "  'HTTPHeaders': {'date': 'Sat, 02 Sep 2023 23:17:09 GMT',\n",
       "   'content-type': 'application/json',\n",
       "   'content-length': '59',\n",
       "   'connection': 'keep-alive',\n",
       "   'x-amzn-requestid': '545d435f-43b3-4d39-a610-ce2df87e241a',\n",
       "   'x-amzn-remapped-content-length': '0',\n",
       "   'x-amz-executed-version': '$LATEST',\n",
       "   'x-amzn-trace-id': 'root=1-64f3c26d-1d916f0c7a9609402d6429ff;sampled=0;lineage=923280ba:0'},\n",
       "  'RetryAttempts': 0},\n",
       " 'StatusCode': 200,\n",
       " 'ExecutedVersion': '$LATEST',\n",
       " 'Payload': <botocore.response.StreamingBody at 0x7f8cc8877b20>}"
      ]
     },
     "execution_count": 4,
     "metadata": {},
     "output_type": "execute_result"
    }
   ],
   "source": [
    "import boto3\n",
    "from sagemaker import get_execution_role\n",
    "import json\n",
    "\n",
    "client = boto3.client('lambda')\n",
    "payload = {\"s3-dataset-uri\": \"udacity-ml-workflow/Lesson 3, Exercise 1/reviews_Patio_Lawn_and_Garden_5.json.zip\"}\n",
    "\n",
    "# json.dumps turns a JSON-object-like python object into a string, and .encode('utf-8') encodes the \n",
    "# the string so that it can be properly passed to the client. \n",
    "\n",
    "payload_bytes = json.dumps(payload).encode('utf-8')\n",
    "\n",
    "response = client.invoke(FunctionName='PreprocessLambda', InvocationType='RequestResponse', Payload=payload_bytes)\n",
    "response"
   ]
  },
  {
   "cell_type": "markdown",
   "id": "3ec33b50",
   "metadata": {},
   "source": [
    "## Exercise: Asynchronous invocation "
   ]
  },
  {
   "cell_type": "markdown",
   "id": "748515a8",
   "metadata": {},
   "source": [
    "Asynchronous invocations occur when a service invokes lambda but does not wait for a response. The two most popular services that utilize asynchronous invocations are S3 (the storage we've been using) and SNS (Simple Notification Service.) We'll be setting up asynchronous invocations on an S3 bucket for our preprocessing function."
   ]
  },
  {
   "cell_type": "markdown",
   "id": "c0764490",
   "metadata": {},
   "source": [
    "Your task is to setup a trigger for the Lambda function we've been working  whenever a file is uploaded to a specific folder in S3. You will need to do the following:\n",
    "\n",
    "* Create a new s3 folder within an existing bucket. \n",
    "* Create a new lambda trigger for S3 by clicking '+Add trigger'. Specifying the bucket. Specify a prefix of the desired folder. Specify a suffix of \".zip\" to ensure that recursive calls don't occur. \n",
    "* Modify the lambda handler in the previous exercise using the starter code so that it properly parses the event that's sent to it. \n",
    "\n",
    "To test, upload reviews_Patio_Lawn_and_Garden_5.json.zip in this directory to your S3 bucket. \n",
    "To see if the lambda function is triggered, you can go to the Monitor tab. \n",
    "\n"
   ]
  },
  {
   "cell_type": "markdown",
   "id": "edbd4522",
   "metadata": {},
   "source": [
    "## Lambda Handler Starter Code: Parsing S3 Upload Event. "
   ]
  },
  {
   "cell_type": "code",
   "execution_count": null,
   "id": "5c3d3277",
   "metadata": {},
   "outputs": [],
   "source": [
    "import urllib\n",
    "from HelloBlazePreprocessLambda import preprocess\n",
    "\n",
    "def lambda_handler(event, context):\n",
    "    # Parse S3 event\n",
    "    for r in event['Records']:\n",
    "        bucket = r['s3']['bucket']['name']\n",
    "        key = urllib.parse.unquote_plus(r['s3']['object']['key'], encoding='utf-8')\n",
    "        uri = \"/\".join([bucket, key])\n",
    "        # Preprocess newly uploaded data\n",
    "        preprocess(uri)\n",
    "    return {\n",
    "        'statusCode': 200,\n",
    "        'body': json.dumps(\"PREPROCESS SUCCESSFULLY!\")\n",
    "    }"
   ]
  }
 ],
 "metadata": {
  "kernelspec": {
   "display_name": "conda_python3",
   "language": "python",
   "name": "conda_python3"
  },
  "language_info": {
   "codemirror_mode": {
    "name": "ipython",
    "version": 3
   },
   "file_extension": ".py",
   "mimetype": "text/x-python",
   "name": "python",
   "nbconvert_exporter": "python",
   "pygments_lexer": "ipython3",
   "version": "3.10.12"
  }
 },
 "nbformat": 4,
 "nbformat_minor": 5
}
